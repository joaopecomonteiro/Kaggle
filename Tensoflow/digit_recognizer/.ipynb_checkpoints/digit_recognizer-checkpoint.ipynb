{
 "cells": [
  {
   "cell_type": "code",
   "execution_count": 2,
   "id": "282642d9",
   "metadata": {},
   "outputs": [],
   "source": [
    "import pandas as pd\n",
    "import numpy as np \n",
    "import tensorflow as tf\n",
    "\n",
    "from sklearn.model_selection import train_test_split\n",
    "\n",
    "from keras.preprocessing.image import ImageDataGenerator"
   ]
  },
  {
   "cell_type": "code",
   "execution_count": 3,
   "id": "122901aa",
   "metadata": {},
   "outputs": [],
   "source": [
    "train_data = pd.read_csv('data/train.csv')\n",
    "\n",
    "test_data = pd.read_csv('data/test.csv')\n",
    "\n",
    "X_train = train_data.drop([\"label\"], axis = 1)\n",
    "y_train = train_data[\"label\"]"
   ]
  },
  {
   "cell_type": "code",
   "execution_count": 4,
   "id": "ce896659",
   "metadata": {},
   "outputs": [],
   "source": [
    "X_train = X_train / 255\n",
    "\n",
    "X_test = test_data / 255"
   ]
  },
  {
   "cell_type": "code",
   "execution_count": 24,
   "id": "bab9d020",
   "metadata": {},
   "outputs": [],
   "source": [
    "y_train = tf.keras.utils.to_categorical(y_train, num_classes=10)\n"
   ]
  },
  {
   "cell_type": "code",
   "execution_count": 7,
   "id": "683228f6",
   "metadata": {},
   "outputs": [],
   "source": [
    "X_train = np.array(X_train).reshape(-1, 28, 28, 1)\n",
    "X_test = np.array(X_test).reshape(-1, 28, 28, 1)\n",
    "\n",
    "X_train, X_val, y_train, y_val = train_test_split(X_train, y_train, test_size=0.15, random_state=2)"
   ]
  },
  {
   "cell_type": "code",
   "execution_count": 8,
   "id": "4b7d7877",
   "metadata": {},
   "outputs": [
    {
     "data": {
      "text/plain": [
       "((35700, 28, 28, 1), (6300, 28, 28, 1), (35700, 10), (6300, 10))"
      ]
     },
     "execution_count": 8,
     "metadata": {},
     "output_type": "execute_result"
    }
   ],
   "source": [
    "X_train.shape, X_val.shape, y_train.shape, y_val.shape"
   ]
  },
  {
   "cell_type": "code",
   "execution_count": 10,
   "id": "4c2d806e",
   "metadata": {},
   "outputs": [],
   "source": [
    "# Build model\n",
    "\n",
    "model = tf.keras.models.Sequential([\n",
    "    \n",
    "    tf.keras.layers.Conv2D(filters=64, kernel_size=(5,5), padding='same', activation='relu', input_shape=(28, 28, 1)),\n",
    "    \n",
    "    tf.keras.layers.BatchNormalization(),\n",
    "    \n",
    "    tf.keras.layers.Conv2D(filters=64, kernel_size=(5,5), padding='same', activation='relu'),\n",
    "    \n",
    "    tf.keras.layers.BatchNormalization(),\n",
    "    \n",
    "    tf.keras.layers.MaxPooling2D(2,2),\n",
    "            \n",
    "    tf.keras.layers.Dropout(0.25),\n",
    "    \n",
    "    tf.keras.layers.Conv2D(filters=64, kernel_size=(3,3), padding='same', activation='relu'),\n",
    "    \n",
    "    tf.keras.layers.BatchNormalization(),\n",
    "    \n",
    "    tf.keras.layers.Conv2D(filters=64, kernel_size=(3,3), padding='same', activation='relu'),\n",
    "    \n",
    "    tf.keras.layers.BatchNormalization(),\n",
    "    \n",
    "    tf.keras.layers.MaxPooling2D(2,2),\n",
    "    \n",
    "    tf.keras.layers.Dropout(0.25),\n",
    "    \n",
    "    tf.keras.layers.Conv2D(filters=64, kernel_size=(3,3), padding='same', activation='relu'),\n",
    "    \n",
    "    tf.keras.layers.BatchNormalization(),\n",
    "    \n",
    "    tf.keras.layers.Dropout(0.25),\n",
    "    \n",
    "    tf.keras.layers.Flatten(),\n",
    "    \n",
    "    tf.keras.layers.Dense(256, activation='relu'),\n",
    "    \n",
    "    tf.keras.layers.Dense(10, activation='softmax')\n",
    "    \n",
    "])"
   ]
  },
  {
   "cell_type": "code",
   "execution_count": 11,
   "id": "4a9d19c4",
   "metadata": {},
   "outputs": [
    {
     "name": "stdout",
     "output_type": "stream",
     "text": [
      "Model: \"sequential\"\n",
      "_________________________________________________________________\n",
      " Layer (type)                Output Shape              Param #   \n",
      "=================================================================\n",
      " conv2d (Conv2D)             (None, 28, 28, 64)        1664      \n",
      "                                                                 \n",
      " batch_normalization (BatchN  (None, 28, 28, 64)       256       \n",
      " ormalization)                                                   \n",
      "                                                                 \n",
      " conv2d_1 (Conv2D)           (None, 28, 28, 64)        102464    \n",
      "                                                                 \n",
      " batch_normalization_1 (Batc  (None, 28, 28, 64)       256       \n",
      " hNormalization)                                                 \n",
      "                                                                 \n",
      " max_pooling2d (MaxPooling2D  (None, 14, 14, 64)       0         \n",
      " )                                                               \n",
      "                                                                 \n",
      " dropout (Dropout)           (None, 14, 14, 64)        0         \n",
      "                                                                 \n",
      " conv2d_2 (Conv2D)           (None, 14, 14, 64)        36928     \n",
      "                                                                 \n",
      " batch_normalization_2 (Batc  (None, 14, 14, 64)       256       \n",
      " hNormalization)                                                 \n",
      "                                                                 \n",
      " conv2d_3 (Conv2D)           (None, 14, 14, 64)        36928     \n",
      "                                                                 \n",
      " batch_normalization_3 (Batc  (None, 14, 14, 64)       256       \n",
      " hNormalization)                                                 \n",
      "                                                                 \n",
      " max_pooling2d_1 (MaxPooling  (None, 7, 7, 64)         0         \n",
      " 2D)                                                             \n",
      "                                                                 \n",
      " dropout_1 (Dropout)         (None, 7, 7, 64)          0         \n",
      "                                                                 \n",
      " conv2d_4 (Conv2D)           (None, 7, 7, 64)          36928     \n",
      "                                                                 \n",
      " batch_normalization_4 (Batc  (None, 7, 7, 64)         256       \n",
      " hNormalization)                                                 \n",
      "                                                                 \n",
      " dropout_2 (Dropout)         (None, 7, 7, 64)          0         \n",
      "                                                                 \n",
      " flatten (Flatten)           (None, 3136)              0         \n",
      "                                                                 \n",
      " dense (Dense)               (None, 256)               803072    \n",
      "                                                                 \n",
      " dense_1 (Dense)             (None, 10)                2570      \n",
      "                                                                 \n",
      "=================================================================\n",
      "Total params: 1,021,834\n",
      "Trainable params: 1,021,194\n",
      "Non-trainable params: 640\n",
      "_________________________________________________________________\n"
     ]
    }
   ],
   "source": [
    "model.summary()"
   ]
  },
  {
   "cell_type": "code",
   "execution_count": 12,
   "id": "526c0f38",
   "metadata": {},
   "outputs": [],
   "source": [
    "model.compile(loss='categorical_crossentropy',\n",
    "             optimizer='adam',\n",
    "             metrics=['accuracy'])"
   ]
  },
  {
   "cell_type": "code",
   "execution_count": 13,
   "id": "71f828b8",
   "metadata": {},
   "outputs": [],
   "source": [
    "# Data augmentation\n",
    "\n",
    "batch_size = 64\n",
    "\n",
    "datagen = ImageDataGenerator(\n",
    "    rotation_range=15,\n",
    "    zoom_range=0.2,\n",
    "    width_shift_range=0.15,\n",
    "    height_shift_range=0.15\n",
    ")\n",
    "\n",
    "\n",
    "validation_datagen = ImageDataGenerator()\n",
    "\n",
    "\n",
    "\n",
    "train_gen = datagen.flow(X_train, y_train, batch_size=batch_size)\n",
    "\n",
    "validator_gen = validation_datagen.flow(X_val, y_val, batch_size=batch_size)"
   ]
  },
  {
   "cell_type": "code",
   "execution_count": 14,
   "id": "78367684",
   "metadata": {},
   "outputs": [
    {
     "name": "stdout",
     "output_type": "stream",
     "text": [
      "Epoch 1/50\n",
      "20/20 [==============================] - 40s 2s/step - loss: 1.9801 - accuracy: 0.3648 - val_loss: 2.2612 - val_accuracy: 0.1138\n",
      "Epoch 2/50\n",
      "20/20 [==============================] - 31s 2s/step - loss: 1.0212 - accuracy: 0.6570 - val_loss: 2.1100 - val_accuracy: 0.4540\n",
      "Epoch 3/50\n",
      "20/20 [==============================] - 32s 2s/step - loss: 0.7041 - accuracy: 0.7781 - val_loss: 2.1600 - val_accuracy: 0.2000\n",
      "Epoch 4/50\n",
      "20/20 [==============================] - 32s 2s/step - loss: 0.5545 - accuracy: 0.8203 - val_loss: 2.1748 - val_accuracy: 0.3192\n",
      "Epoch 5/50\n",
      "20/20 [==============================] - 32s 2s/step - loss: 0.4093 - accuracy: 0.8773 - val_loss: 2.2488 - val_accuracy: 0.2216\n",
      "Epoch 6/50\n",
      "20/20 [==============================] - 32s 2s/step - loss: 0.3255 - accuracy: 0.9016 - val_loss: 3.2222 - val_accuracy: 0.1019\n",
      "Epoch 7/50\n",
      "20/20 [==============================] - 32s 2s/step - loss: 0.3711 - accuracy: 0.8852 - val_loss: 3.6891 - val_accuracy: 0.1456\n",
      "Epoch 8/50\n",
      "20/20 [==============================] - 31s 2s/step - loss: 0.3019 - accuracy: 0.9102 - val_loss: 4.1257 - val_accuracy: 0.0910\n",
      "Epoch 9/50\n",
      "20/20 [==============================] - 32s 2s/step - loss: 0.2707 - accuracy: 0.9172 - val_loss: 4.4083 - val_accuracy: 0.0910\n",
      "Epoch 10/50\n",
      "20/20 [==============================] - 32s 2s/step - loss: 0.2849 - accuracy: 0.9195 - val_loss: 5.0561 - val_accuracy: 0.0990\n",
      "Epoch 11/50\n",
      "20/20 [==============================] - 32s 2s/step - loss: 0.2726 - accuracy: 0.9062 - val_loss: 5.0056 - val_accuracy: 0.0932\n",
      "Epoch 12/50\n",
      "20/20 [==============================] - 32s 2s/step - loss: 0.2132 - accuracy: 0.9289 - val_loss: 6.2161 - val_accuracy: 0.0910\n",
      "Epoch 13/50\n",
      "20/20 [==============================] - 32s 2s/step - loss: 0.2407 - accuracy: 0.9250 - val_loss: 6.7153 - val_accuracy: 0.0910\n",
      "Epoch 14/50\n",
      "20/20 [==============================] - 32s 2s/step - loss: 0.2177 - accuracy: 0.9328 - val_loss: 8.4450 - val_accuracy: 0.0910\n",
      "Epoch 15/50\n",
      "20/20 [==============================] - 32s 2s/step - loss: 0.2210 - accuracy: 0.9359 - val_loss: 4.5029 - val_accuracy: 0.1597\n",
      "Epoch 16/50\n",
      "20/20 [==============================] - 32s 2s/step - loss: 0.1725 - accuracy: 0.9469 - val_loss: 3.4007 - val_accuracy: 0.2429\n",
      "Epoch 17/50\n",
      "20/20 [==============================] - 32s 2s/step - loss: 0.2082 - accuracy: 0.9352 - val_loss: 5.1386 - val_accuracy: 0.1679\n",
      "Epoch 18/50\n",
      "20/20 [==============================] - 550s 29s/step - loss: 0.1980 - accuracy: 0.9430 - val_loss: 3.6608 - val_accuracy: 0.2835\n",
      "Epoch 19/50\n",
      "20/20 [==============================] - 18s 941ms/step - loss: 0.2188 - accuracy: 0.9414 - val_loss: 2.7894 - val_accuracy: 0.3370\n",
      "Epoch 20/50\n",
      "20/20 [==============================] - 11s 563ms/step - loss: 0.1884 - accuracy: 0.9516 - val_loss: 2.9055 - val_accuracy: 0.2794\n",
      "Epoch 21/50\n",
      "20/20 [==============================] - 13s 680ms/step - loss: 0.1513 - accuracy: 0.9531 - val_loss: 2.1100 - val_accuracy: 0.4403\n",
      "Epoch 22/50\n",
      "20/20 [==============================] - 13s 676ms/step - loss: 0.1321 - accuracy: 0.9563 - val_loss: 1.7150 - val_accuracy: 0.5089\n",
      "Epoch 23/50\n",
      "20/20 [==============================] - 13s 683ms/step - loss: 0.1768 - accuracy: 0.9383 - val_loss: 0.9441 - val_accuracy: 0.7392\n",
      "Epoch 24/50\n",
      "20/20 [==============================] - 15s 790ms/step - loss: 0.1707 - accuracy: 0.9398 - val_loss: 0.6142 - val_accuracy: 0.8184\n",
      "Epoch 25/50\n",
      "20/20 [==============================] - 19s 1s/step - loss: 0.1664 - accuracy: 0.9453 - val_loss: 0.2159 - val_accuracy: 0.9305\n",
      "Epoch 26/50\n",
      "20/20 [==============================] - 20s 1s/step - loss: 0.1619 - accuracy: 0.9539 - val_loss: 0.1793 - val_accuracy: 0.9468\n",
      "Epoch 27/50\n",
      "20/20 [==============================] - 17s 895ms/step - loss: 0.1898 - accuracy: 0.9406 - val_loss: 0.1646 - val_accuracy: 0.9460\n",
      "Epoch 28/50\n",
      "20/20 [==============================] - 20s 1s/step - loss: 0.1197 - accuracy: 0.9602 - val_loss: 0.1001 - val_accuracy: 0.9683\n",
      "Epoch 29/50\n",
      "20/20 [==============================] - 18s 907ms/step - loss: 0.1374 - accuracy: 0.9578 - val_loss: 0.1335 - val_accuracy: 0.9590\n",
      "Epoch 30/50\n",
      "20/20 [==============================] - 19s 960ms/step - loss: 0.1313 - accuracy: 0.9609 - val_loss: 0.0707 - val_accuracy: 0.9757\n",
      "Epoch 31/50\n",
      "20/20 [==============================] - 21s 1s/step - loss: 0.1244 - accuracy: 0.9617 - val_loss: 0.1210 - val_accuracy: 0.9573\n",
      "Epoch 32/50\n",
      "20/20 [==============================] - 17s 857ms/step - loss: 0.1374 - accuracy: 0.9550 - val_loss: 0.0701 - val_accuracy: 0.9770\n",
      "Epoch 33/50\n",
      "20/20 [==============================] - 18s 930ms/step - loss: 0.1578 - accuracy: 0.9555 - val_loss: 0.1436 - val_accuracy: 0.9532\n",
      "Epoch 34/50\n",
      "20/20 [==============================] - 20s 1s/step - loss: 0.1438 - accuracy: 0.9492 - val_loss: 0.0870 - val_accuracy: 0.9721\n",
      "Epoch 35/50\n",
      "20/20 [==============================] - 20s 1s/step - loss: 0.1348 - accuracy: 0.9586 - val_loss: 0.0816 - val_accuracy: 0.9757\n",
      "Epoch 36/50\n",
      "20/20 [==============================] - 18s 922ms/step - loss: 0.1647 - accuracy: 0.9453 - val_loss: 0.1516 - val_accuracy: 0.9554\n",
      "Epoch 37/50\n",
      "20/20 [==============================] - 17s 868ms/step - loss: 0.1728 - accuracy: 0.9484 - val_loss: 0.0754 - val_accuracy: 0.9776\n",
      "Epoch 38/50\n",
      "20/20 [==============================] - 17s 868ms/step - loss: 0.1223 - accuracy: 0.9602 - val_loss: 0.0635 - val_accuracy: 0.9806\n",
      "Epoch 39/50\n",
      "20/20 [==============================] - 18s 906ms/step - loss: 0.1364 - accuracy: 0.9570 - val_loss: 0.0849 - val_accuracy: 0.9768\n",
      "Epoch 40/50\n",
      "20/20 [==============================] - 22s 1s/step - loss: 0.1301 - accuracy: 0.9578 - val_loss: 0.0626 - val_accuracy: 0.9816\n",
      "Epoch 41/50\n",
      "20/20 [==============================] - 23s 1s/step - loss: 0.1259 - accuracy: 0.9609 - val_loss: 0.0754 - val_accuracy: 0.9800\n",
      "Epoch 42/50\n",
      "20/20 [==============================] - 23s 1s/step - loss: 0.1393 - accuracy: 0.9563 - val_loss: 0.0792 - val_accuracy: 0.9768\n",
      "Epoch 43/50\n",
      "20/20 [==============================] - 23s 1s/step - loss: 0.1176 - accuracy: 0.9594 - val_loss: 0.0966 - val_accuracy: 0.9719\n",
      "Epoch 44/50\n",
      "20/20 [==============================] - 24s 1s/step - loss: 0.1655 - accuracy: 0.9516 - val_loss: 0.0646 - val_accuracy: 0.9816\n",
      "Epoch 45/50\n",
      "20/20 [==============================] - 23s 1s/step - loss: 0.1077 - accuracy: 0.9711 - val_loss: 0.0544 - val_accuracy: 0.9832\n",
      "Epoch 46/50\n",
      "20/20 [==============================] - 22s 1s/step - loss: 0.0997 - accuracy: 0.9680 - val_loss: 0.0494 - val_accuracy: 0.9846\n",
      "Epoch 47/50\n",
      "20/20 [==============================] - 24s 1s/step - loss: 0.0955 - accuracy: 0.9625 - val_loss: 0.1096 - val_accuracy: 0.9654\n",
      "Epoch 48/50\n",
      "20/20 [==============================] - 24s 1s/step - loss: 0.0941 - accuracy: 0.9734 - val_loss: 0.0681 - val_accuracy: 0.9789\n",
      "Epoch 49/50\n",
      "20/20 [==============================] - 23s 1s/step - loss: 0.1064 - accuracy: 0.9672 - val_loss: 0.0494 - val_accuracy: 0.9849\n",
      "Epoch 50/50\n",
      "20/20 [==============================] - 23s 1s/step - loss: 0.0958 - accuracy: 0.9742 - val_loss: 0.0784 - val_accuracy: 0.9789\n"
     ]
    }
   ],
   "source": [
    "# Train the model\n",
    "epochs = 50\n",
    "\n",
    "\n",
    "history = model.fit(train_gen,\n",
    "                    epochs=epochs,\n",
    "                    steps_per_epoch=20,\n",
    "                    validation_data=(X_val, y_val),\n",
    "                    verbose=1\n",
    ")"
   ]
  },
  {
   "cell_type": "code",
   "execution_count": 28,
   "id": "9e30b838",
   "metadata": {},
   "outputs": [
    {
     "data": {
      "image/png": "[encoded data removed]",
      "text/plain": [
       "<Figure size 640x480 with 1 Axes>"
      ]
     },
     "metadata": {},
     "output_type": "display_data"
    },
    {
     "data": {
      "image/png": "[encoded data removed]",
      "text/plain": [
       "<Figure size 640x480 with 1 Axes>"
      ]
     },
     "metadata": {},
     "output_type": "display_data"
    },
    {
     "data": {
      "text/plain": [
       "<Figure size 640x480 with 0 Axes>"
      ]
     },
     "metadata": {},
     "output_type": "display_data"
    }
   ],
   "source": [
    "import matplotlib.pyplot as plt\n",
    "\n",
    "# Plot the results\n",
    "acc = history.history['accuracy']\n",
    "val_acc = history.history['val_accuracy']\n",
    "loss = history.history['loss']\n",
    "val_loss = history.history['val_loss']\n",
    "\n",
    "epochs = range(len(acc))\n",
    "\n",
    "plt.plot(epochs, acc, 'r', label='Training accuracy')\n",
    "plt.plot(epochs, val_acc, 'b', label='Validation accuracy')\n",
    "plt.title('Training and validation accuracy')\n",
    "plt.legend(loc=0)\n",
    "plt.figure()\n",
    "\n",
    "plt.plot(epochs, loss, 'r', label='Training loss')\n",
    "plt.plot(epochs, val_loss, 'b', label='Validation loss')\n",
    "plt.title('Training and validation loss')\n",
    "plt.legend(loc=0)\n",
    "plt.figure()\n",
    "\n",
    "\n",
    "plt.show()"
   ]
  },
  {
   "cell_type": "code",
   "execution_count": 15,
   "id": "a75601c9",
   "metadata": {},
   "outputs": [
    {
     "name": "stdout",
     "output_type": "stream",
     "text": [
      "875/875 [==============================] - 37s 42ms/step\n"
     ]
    }
   ],
   "source": [
    "predictions = model.predict(X_test)"
   ]
  },
  {
   "cell_type": "code",
   "execution_count": 16,
   "id": "2ff98613",
   "metadata": {},
   "outputs": [],
   "source": [
    "predictions = np.argmax(predictions, axis=1)"
   ]
  },
  {
   "cell_type": "code",
   "execution_count": 19,
   "id": "ea0fa327",
   "metadata": {},
   "outputs": [],
   "source": [
    "submission = pd.DataFrame()"
   ]
  },
  {
   "cell_type": "code",
   "execution_count": 20,
   "id": "bd8ca61b",
   "metadata": {},
   "outputs": [],
   "source": [
    "submission[\"ImageId\"] = pd.Series(range(1, 28001))"
   ]
  },
  {
   "cell_type": "code",
   "execution_count": 21,
   "id": "b41cf668",
   "metadata": {},
   "outputs": [],
   "source": [
    "submission[\"Label\"] = predictions"
   ]
  },
  {
   "cell_type": "code",
   "execution_count": 22,
   "id": "c8e9fc8a",
   "metadata": {},
   "outputs": [
    {
     "data": {
      "text/html": [
       "<div>\n",
       "<style scoped>\n",
       "    .dataframe tbody tr th:only-of-type {\n",
       "        vertical-align: middle;\n",
       "    }\n",
       "\n",
       "    .dataframe tbody tr th {\n",
       "        vertical-align: top;\n",
       "    }\n",
       "\n",
       "    .dataframe thead th {\n",
       "        text-align: right;\n",
       "    }\n",
       "</style>\n",
       "<table border=\"1\" class=\"dataframe\">\n",
       "  <thead>\n",
       "    <tr style=\"text-align: right;\">\n",
       "      <th></th>\n",
       "      <th>ImageId</th>\n",
       "      <th>Label</th>\n",
       "    </tr>\n",
       "  </thead>\n",
       "  <tbody>\n",
       "    <tr>\n",
       "      <th>0</th>\n",
       "      <td>1</td>\n",
       "      <td>2</td>\n",
       "    </tr>\n",
       "    <tr>\n",
       "      <th>1</th>\n",
       "      <td>2</td>\n",
       "      <td>0</td>\n",
       "    </tr>\n",
       "    <tr>\n",
       "      <th>2</th>\n",
       "      <td>3</td>\n",
       "      <td>9</td>\n",
       "    </tr>\n",
       "    <tr>\n",
       "      <th>3</th>\n",
       "      <td>4</td>\n",
       "      <td>0</td>\n",
       "    </tr>\n",
       "    <tr>\n",
       "      <th>4</th>\n",
       "      <td>5</td>\n",
       "      <td>3</td>\n",
       "    </tr>\n",
       "    <tr>\n",
       "      <th>...</th>\n",
       "      <td>...</td>\n",
       "      <td>...</td>\n",
       "    </tr>\n",
       "    <tr>\n",
       "      <th>27995</th>\n",
       "      <td>27996</td>\n",
       "      <td>9</td>\n",
       "    </tr>\n",
       "    <tr>\n",
       "      <th>27996</th>\n",
       "      <td>27997</td>\n",
       "      <td>7</td>\n",
       "    </tr>\n",
       "    <tr>\n",
       "      <th>27997</th>\n",
       "      <td>27998</td>\n",
       "      <td>3</td>\n",
       "    </tr>\n",
       "    <tr>\n",
       "      <th>27998</th>\n",
       "      <td>27999</td>\n",
       "      <td>9</td>\n",
       "    </tr>\n",
       "    <tr>\n",
       "      <th>27999</th>\n",
       "      <td>28000</td>\n",
       "      <td>2</td>\n",
       "    </tr>\n",
       "  </tbody>\n",
       "</table>\n",
       "<p>28000 rows × 2 columns</p>\n",
       "</div>"
      ],
      "text/plain": [
       "       ImageId  Label\n",
       "0            1      2\n",
       "1            2      0\n",
       "2            3      9\n",
       "3            4      0\n",
       "4            5      3\n",
       "...        ...    ...\n",
       "27995    27996      9\n",
       "27996    27997      7\n",
       "27997    27998      3\n",
       "27998    27999      9\n",
       "27999    28000      2\n",
       "\n",
       "[28000 rows x 2 columns]"
      ]
     },
     "execution_count": 22,
     "metadata": {},
     "output_type": "execute_result"
    }
   ],
   "source": [
    "submission"
   ]
  },
  {
   "cell_type": "code",
   "execution_count": 23,
   "id": "7cf1707a",
   "metadata": {},
   "outputs": [],
   "source": [
    "submission.to_csv('predictions.csv', index = False)"
   ]
  },
  {
   "cell_type": "code",
   "execution_count": 29,
   "id": "a0e1203f",
   "metadata": {},
   "outputs": [
    {
     "name": "stderr",
     "output_type": "stream",
     "text": [
      "WARNING:absl:Found untraced functions such as _jit_compiled_convolution_op, _jit_compiled_convolution_op, _jit_compiled_convolution_op, _jit_compiled_convolution_op, _jit_compiled_convolution_op while saving (showing 5 of 6). These functions will not be directly callable after loading.\n"
     ]
    },
    {
     "name": "stdout",
     "output_type": "stream",
     "text": [
      "INFO:tensorflow:Assets written to: digit_recognizer_model\\assets\n"
     ]
    },
    {
     "name": "stderr",
     "output_type": "stream",
     "text": [
      "INFO:tensorflow:Assets written to: digit_recognizer_model\\assets\n"
     ]
    }
   ],
   "source": [
    "model.save('digit_recognizer_model')"
   ]
  }
 ],
 "metadata": {
  "kernelspec": {
   "display_name": "Python 3 (ipykernel)",
   "language": "python",
   "name": "python3"
  },
  "language_info": {
   "codemirror_mode": {
    "name": "ipython",
    "version": 3
   },
   "file_extension": ".py",
   "mimetype": "text/x-python",
   "name": "python",
   "nbconvert_exporter": "python",
   "pygments_lexer": "ipython3",
   "version": "3.11.4"
  }
 },
 "nbformat": 4,
 "nbformat_minor": 5
}
